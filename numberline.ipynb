{
 "cells": [
  {
   "cell_type": "code",
   "execution_count": 2,
   "id": "3009ff5b",
   "metadata": {},
   "outputs": [
    {
     "name": "stderr",
     "output_type": "stream",
     "text": [
      "\u001b[32m\u001b[1m  Activating\u001b[22m\u001b[39m project at `~/Projects/plots-with-julia`\n"
     ]
    }
   ],
   "source": [
    "using Pkg\n",
    "Pkg.activate(\".\")\n",
    "using PGFPlotsX, Colors"
   ]
  },
  {
   "cell_type": "code",
   "execution_count": 27,
   "id": "8f95bee7",
   "metadata": {},
   "outputs": [
    {
     "data": {
      "image/png": "[encoded data removed]",
      "image/svg+xml": [
       "<?xml version=\"1.0\" encoding=\"UTF-8\"?>\n",
       "<svg xmlns=\"http://www.w3.org/2000/svg\" xmlns:xlink=\"http://www.w3.org/1999/xlink\" width=\"465.803\" height=\"64.4\" viewBox=\"0 0 465.803 64.4\">\n",
       "<defs>\n",
       "<g>\n",
       "<g id=\"glyph-1697470797553951--0-0\">\n",
       "<path d=\"M 4.546875 -3.15625 C 4.546875 -3.953125 4.5 -4.734375 4.140625 -5.46875 C 3.6875 -6.421875 2.890625 -6.578125 2.46875 -6.578125 C 1.875 -6.578125 1.15625 -6.3125 0.75 -5.40625 C 0.4375 -4.71875 0.390625 -3.953125 0.390625 -3.15625 C 0.390625 -2.421875 0.421875 -1.53125 0.828125 -0.78125 C 1.25 0.015625 1.96875 0.21875 2.453125 0.21875 C 2.984375 0.21875 3.75 0.015625 4.171875 -0.921875 C 4.5 -1.609375 4.546875 -2.375 4.546875 -3.15625 Z M 3.71875 -3.28125 C 3.71875 -2.53125 3.71875 -1.859375 3.609375 -1.234375 C 3.46875 -0.296875 2.90625 0 2.453125 0 C 2.078125 0 1.484375 -0.25 1.3125 -1.1875 C 1.203125 -1.78125 1.203125 -2.703125 1.203125 -3.28125 C 1.203125 -3.90625 1.203125 -4.5625 1.28125 -5.09375 C 1.46875 -6.265625 2.21875 -6.359375 2.453125 -6.359375 C 2.78125 -6.359375 3.4375 -6.1875 3.625 -5.203125 C 3.71875 -4.65625 3.71875 -3.90625 3.71875 -3.28125 Z M 3.71875 -3.28125 \"/>\n",
       "</g>\n",
       "<g id=\"glyph-1697470797553951--0-1\">\n",
       "<path d=\"M 4.140625 0 L 4.140625 -0.3125 L 3.828125 -0.3125 C 2.9375 -0.3125 2.90625 -0.421875 2.90625 -0.78125 L 2.90625 -6.3125 C 2.90625 -6.5625 2.90625 -6.578125 2.671875 -6.578125 C 2.0625 -5.9375 1.1875 -5.9375 0.875 -5.9375 L 0.875 -5.640625 C 1.078125 -5.640625 1.65625 -5.640625 2.171875 -5.890625 L 2.171875 -0.78125 C 2.171875 -0.421875 2.140625 -0.3125 1.25 -0.3125 L 0.9375 -0.3125 L 0.9375 0 C 1.28125 -0.03125 2.140625 -0.03125 2.53125 -0.03125 C 2.9375 -0.03125 3.796875 -0.03125 4.140625 0 Z M 4.140625 0 \"/>\n",
       "</g>\n",
       "<g id=\"glyph-1697470797553951--1-0\">\n",
       "<path d=\"M 9.984375 0 L 9.984375 -0.40625 C 9.0625 -0.40625 8.796875 -0.40625 8.609375 -1 L 5.5 -9.890625 C 5.453125 -10.0625 5.421875 -10.15625 5.21875 -10.15625 C 5.015625 -10.15625 4.984375 -10.109375 4.921875 -9.875 L 1.953125 -1.375 C 1.75 -0.796875 1.34375 -0.421875 0.4375 -0.40625 L 0.4375 0 L 1.8125 -0.03125 C 2.203125 -0.03125 2.890625 -0.03125 3.25 0 L 3.25 -0.40625 C 2.65625 -0.421875 2.296875 -0.71875 2.296875 -1.125 C 2.296875 -1.203125 2.296875 -1.234375 2.375 -1.421875 L 3.03125 -3.3125 L 6.609375 -3.3125 L 7.390625 -1.078125 C 7.46875 -0.90625 7.46875 -0.875 7.46875 -0.84375 C 7.46875 -0.40625 6.734375 -0.40625 6.390625 -0.40625 L 6.390625 0 C 6.71875 -0.03125 7.828125 -0.03125 8.234375 -0.03125 C 8.625 -0.03125 9.65625 -0.03125 9.984375 0 Z M 6.46875 -3.71875 L 3.171875 -3.71875 L 4.8125 -8.453125 Z M 6.46875 -3.71875 \"/>\n",
       "</g>\n",
       "</g>\n",
       "<clipPath id=\"clip-1697470797553951--0\">\n",
       "<path clip-rule=\"nonzero\" d=\"M 2.050781 0 L 463.554688 0 L 463.554688 63.804688 L 2.050781 63.804688 Z M 2.050781 0 \"/>\n",
       "</clipPath>\n",
       "<clipPath id=\"clip-1697470797553951--1\">\n",
       "<path clip-rule=\"nonzero\" d=\"M 2.050781 40 L 462 40 L 462 41 L 2.050781 41 Z M 2.050781 40 \"/>\n",
       "</clipPath>\n",
       "<clipPath id=\"clip-1697470797553951--2\">\n",
       "<path clip-rule=\"nonzero\" d=\"M 460 38 L 463.554688 38 L 463.554688 42 L 460 42 Z M 460 38 \"/>\n",
       "</clipPath>\n",
       "<clipPath id=\"clip-1697470797553951--3\">\n",
       "<path clip-rule=\"nonzero\" d=\"M 2.050781 40 L 462 40 L 462 41 L 2.050781 41 Z M 2.050781 40 \"/>\n",
       "</clipPath>\n",
       "<clipPath id=\"clip-1697470797553951--4\">\n",
       "<path clip-rule=\"nonzero\" d=\"M 460 38 L 463.554688 38 L 463.554688 42 L 460 42 Z M 460 38 \"/>\n",
       "</clipPath>\n",
       "</defs>\n",
       "<g clip-path=\"url(#clip-1697470797553951--0)\">\n",
       "<path fill-rule=\"nonzero\" fill=\"rgb(100%, 100%, 100%)\" fill-opacity=\"1\" d=\"M 2.050781 63.804688 L 463.554688 63.804688 L 463.554688 0 L 2.050781 0 Z M 2.050781 63.804688 \"/>\n",
       "</g>\n",
       "<path fill=\"none\" stroke-width=\"0.49814\" stroke-linecap=\"butt\" stroke-linejoin=\"miter\" stroke=\"rgb(0%, 0%, 0%)\" stroke-opacity=\"1\" stroke-miterlimit=\"10\" d=\"M 77.568144 40.979411 L 77.568144 55.92203 M 116.351929 40.979411 L 116.351929 55.92203 M 155.135715 40.979411 L 155.135715 55.92203 M 193.9195 40.979411 L 193.9195 55.92203 M 232.703286 40.979411 L 232.703286 55.92203 M 271.491014 40.979411 L 271.491014 55.92203 M 310.274799 40.979411 L 310.274799 55.92203 M 349.058584 40.979411 L 349.058584 55.92203 M 387.84237 40.979411 L 387.84237 55.92203 \" transform=\"matrix(0.990769, 0, 0, -0.990769, 2.249432, 88.370671)\"/>\n",
       "<path fill=\"none\" stroke-width=\"0.99628\" stroke-linecap=\"butt\" stroke-linejoin=\"miter\" stroke=\"rgb(0%, 0%, 0%)\" stroke-opacity=\"1\" stroke-miterlimit=\"10\" d=\"M 38.784358 38.48766 L 38.784358 58.413781 M 426.626155 38.48766 L 426.626155 58.413781 \" transform=\"matrix(0.990769, 0, 0, -0.990769, 2.249432, 88.370671)\"/>\n",
       "<g clip-path=\"url(#clip-1697470797553951--1)\">\n",
       "<path fill=\"none\" stroke-width=\"0.3985\" stroke-linecap=\"butt\" stroke-linejoin=\"miter\" stroke=\"rgb(0%, 0%, 0%)\" stroke-opacity=\"1\" stroke-miterlimit=\"10\" d=\"M 0.000572981 48.450721 L 463.418906 48.450721 \" transform=\"matrix(0.990769, 0, 0, -0.990769, 2.249432, 88.370671)\"/>\n",
       "</g>\n",
       "<g clip-path=\"url(#clip-1697470797553951--2)\">\n",
       "<path fill-rule=\"nonzero\" fill=\"rgb(0%, 0%, 0%)\" fill-opacity=\"1\" d=\"M 463.363281 40.367188 L 460.207031 38.785156 L 461.390625 40.367188 L 460.207031 41.945312 \"/>\n",
       "</g>\n",
       "<g fill=\"rgb(0%, 0%, 0%)\" fill-opacity=\"1\">\n",
       "<use xlink:href=\"#glyph-1697470797553951--0-0\" x=\"38.20742\" y=\"60.298215\"/>\n",
       "</g>\n",
       "<g fill=\"rgb(0%, 0%, 0%)\" fill-opacity=\"1\">\n",
       "<use xlink:href=\"#glyph-1697470797553951--0-1\" x=\"422.464386\" y=\"60.298215\"/>\n",
       "</g>\n",
       "<g fill=\"rgb(0%, 0%, 0%)\" fill-opacity=\"1\">\n",
       "<use xlink:href=\"#glyph-1697470797553951--1-0\" x=\"304.439002\" y=\"13.438794\"/>\n",
       "</g>\n",
       "<path fill=\"none\" stroke-width=\"0.19925\" stroke-linecap=\"butt\" stroke-linejoin=\"miter\" stroke=\"rgb(50%, 50%, 50%)\" stroke-opacity=\"1\" stroke-miterlimit=\"10\" d=\"M 310.274799 72.110525 L 310.274799 59.229908 \" transform=\"matrix(0.990769, 0, 0, -0.990769, 2.249432, 88.370671)\"/>\n",
       "<path fill=\"none\" stroke-width=\"0.29887\" stroke-linecap=\"butt\" stroke-linejoin=\"miter\" stroke=\"rgb(0%, 0%, 0%)\" stroke-opacity=\"1\" stroke-miterlimit=\"10\" d=\"M 38.784358 45.962913 L 38.784358 50.942471 M 58.178222 45.962913 L 58.178222 50.942471 M 77.568144 45.962913 L 77.568144 50.942471 M 96.962008 45.962913 L 96.962008 50.942471 M 116.351929 45.962913 L 116.351929 50.942471 M 135.745793 45.962913 L 135.745793 50.942471 M 155.135715 45.962913 L 155.135715 50.942471 M 174.529579 45.962913 L 174.529579 50.942471 M 193.9195 45.962913 L 193.9195 50.942471 M 213.313364 45.962913 L 213.313364 50.942471 M 232.703286 45.962913 L 232.703286 50.942471 M 252.09715 45.962913 L 252.09715 50.942471 M 271.491014 45.962913 L 271.491014 50.942471 M 290.880935 45.962913 L 290.880935 50.942471 M 310.274799 45.962913 L 310.274799 50.942471 M 329.66472 45.962913 L 329.66472 50.942471 M 349.058584 45.962913 L 349.058584 50.942471 M 368.448506 45.962913 L 368.448506 50.942471 M 387.84237 45.962913 L 387.84237 50.942471 M 407.232291 45.962913 L 407.232291 50.942471 M 426.626155 45.962913 L 426.626155 50.942471 \" transform=\"matrix(0.990769, 0, 0, -0.990769, 2.249432, 88.370671)\"/>\n",
       "<g clip-path=\"url(#clip-1697470797553951--3)\">\n",
       "<path fill=\"none\" stroke-width=\"0.3985\" stroke-linecap=\"butt\" stroke-linejoin=\"miter\" stroke=\"rgb(0%, 0%, 0%)\" stroke-opacity=\"1\" stroke-miterlimit=\"10\" d=\"M 0.000572981 48.450721 L 463.418906 48.450721 \" transform=\"matrix(0.990769, 0, 0, -0.990769, 2.249432, 88.370671)\"/>\n",
       "</g>\n",
       "<g clip-path=\"url(#clip-1697470797553951--4)\">\n",
       "<path fill-rule=\"nonzero\" fill=\"rgb(0%, 0%, 0%)\" fill-opacity=\"1\" d=\"M 463.363281 40.367188 L 460.207031 38.785156 L 461.390625 40.367188 L 460.207031 41.945312 \"/>\n",
       "</g>\n",
       "</svg>\n",
       "\n"
      ],
      "text/plain": [
       "TikzPicture(PGFPlotsX.Options(OrderedCollections.OrderedDict{String, Any}(), false), Union{String, PGFPlotsX.TikzElement}[Axis(PGFPlotsX.Options(OrderedCollections.OrderedDict{String, Any}(\"xlabel\" => \"\", \"xmin\" => -0.1, \"xmax\" => 1.1, \"ymin\" => -3, \"ymax\" => 3, \"xtick\" => [0.0, 1.0], \"xticklabels\" => [0, 1], \"major tick length\" => 20, \"major tick style\" => PGFPlotsX.Options(OrderedCollections.OrderedDict{String, Any}(\"line width\" => 1, \"draw\" => RGB{N0f8}(0.0,0.0,0.0)), true), \"minor tick length\" => 15…), true), Any[Any[\"\\\\node\", PGFPlotsX.Options(OrderedCollections.OrderedDict{String, Any}(\"pin\" => \"270: \"), true), \"at\", Coordinate{2}((0.7, 2), nothing, nothing, nothing, nothing), \"{\\\\Large A};\"]]), Axis(PGFPlotsX.Options(OrderedCollections.OrderedDict{String, Any}(\"xlabel\" => \"\", \"xmin\" => -0.1, \"xmax\" => 1.1, \"ymin\" => -3, \"ymax\" => 3, \"xtick\" => 0.0:0.05:1.0, \"xticklabels\" => Any[], \"major tick length\" => 5, \"major tick style\" => PGFPlotsX.Options(OrderedCollections.OrderedDict{String, Any}(\"line width\" => 0.3, \"draw\" => RGB{N0f8}(0.0,0.0,0.0)), true), \"axis lines\" => \"center\"…), true), Any[])])"
      ]
     },
     "execution_count": 27,
     "metadata": {},
     "output_type": "execute_result"
    }
   ],
   "source": [
    "black = parse(Colorant, \"black\")\n",
    "myred = parse(Colorant, \"light coral\");\n",
    "ax1 = @pgf Axis(\n",
    "{\n",
    "    xlabel = \"\",\n",
    "    xmin = -0.1, xmax = 1.1, ymin=-3, ymax=3,\n",
    "   # enlarge_y_limits=.4,\n",
    "    xtick = [0.0, 1.0], # major ticks \n",
    "    xticklabels = [0, 1],\n",
    "    major_tick_length = 20, # length of major ticks\n",
    "    major_tick_style={line_width=1, draw=black},   \n",
    "    minor_tick_length = 15, # length of minor ticks\n",
    "    minor_tick_style={line_width=0.5, draw=black},\n",
    "    minor_tick_num = 9, # amount of grid lines between two major grid lines\n",
    "    axis_lines = \"center\",#, grid = \"both\", # grid = \"both\" draws major and minor grid!\n",
    "    axis_y_line = \"none\",\n",
    "    width = \"18cm\" , height = \"5cm\",\n",
    "    }\n",
    ")\n",
    "\n",
    "@pgf push!(ax1, [raw\"\\node\", {pin = \"270: \"}, \n",
    "            \"at\", Coordinate(0.7,  2), \"{\\\\Large A};\"]) \n",
    "\n",
    "# \\\\tiny -> \\\\Huge Fontsize \n",
    "\n",
    "ax2 = @pgf Axis(\n",
    "{\n",
    "    xlabel = \"\",\n",
    "    xmin = -0.1, xmax = 1.1, ymin=-3, ymax=3,\n",
    "    xtick = 0.0:0.05:1.0, # major ticks \n",
    "    xticklabels = [],\n",
    "    major_tick_length = 5, # length of major ticks\n",
    "    major_tick_style={line_width=0.3, draw=black},   \n",
    "    axis_lines = \"center\",#, grid = \"both\", # grid = \"both\" draws major and minor grid!\n",
    "    axis_y_line = \"none\",\n",
    "    width = \"18cm\" , height = \"5cm\",\n",
    "    }\n",
    ")\n",
    "\n",
    "tp = @pgf TikzPicture(ax1, ax2)"
   ]
  },
  {
   "cell_type": "code",
   "execution_count": 28,
   "id": "44b0727b",
   "metadata": {},
   "outputs": [
    {
     "name": "stdout",
     "output_type": "stream",
     "text": [
      "\\begin{tikzpicture}\n",
      "\\begin{axis}[xlabel={}, xmin={-0.1}, xmax={1.1}, ymin={-3}, ymax={3}, xtick={0.0,1.0}, xticklabels={0,1}, major tick length={20}, major tick style={line width={1}, draw={rgb,1:red,0.0;green,0.0;blue,0.0}}, minor tick length={15}, minor tick style={line width={0.5}, draw={rgb,1:red,0.0;green,0.0;blue,0.0}}, minor tick num={9}, axis lines={center}, axis y line={none}, width={18cm}, height={5cm}]\n",
      "    \\node\n",
      "    [pin={270: }] at\n",
      "    (0.7,2)\n",
      "    {\\Large A};\n",
      "\\end{axis}\n",
      "\\begin{axis}[xlabel={}, xmin={-0.1}, xmax={1.1}, ymin={-3}, ymax={3}, xtick={0.0,0.05,0.1,0.15,0.2,0.25,0.3,0.35,0.4,0.45,0.5,0.55,0.6,0.65,0.7,0.75,0.8,0.85,0.9,0.95,1.0}, xticklabels={}, major tick length={5}, major tick style={line width={0.3}, draw={rgb,1:red,0.0;green,0.0;blue,0.0}}, axis lines={center}, axis y line={none}, width={18cm}, height={5cm}]\n",
      "\\end{axis}\n",
      "\\end{tikzpicture}\n"
     ]
    }
   ],
   "source": [
    "print_tex(tp)"
   ]
  },
  {
   "cell_type": "code",
   "execution_count": null,
   "id": "8af7f3a3",
   "metadata": {},
   "outputs": [],
   "source": []
  }
 ],
 "metadata": {
  "kernelspec": {
   "display_name": "Julia nodeps 1.9.3",
   "language": "julia",
   "name": "julia-nodeps-1.9"
  },
  "language_info": {
   "file_extension": ".jl",
   "mimetype": "application/julia",
   "name": "julia",
   "version": "1.9.3"
  }
 },
 "nbformat": 4,
 "nbformat_minor": 5
}
